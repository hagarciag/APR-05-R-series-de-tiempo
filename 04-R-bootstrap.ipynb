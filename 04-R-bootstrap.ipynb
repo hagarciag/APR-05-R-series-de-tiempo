{
 "cells": [
  {
   "cell_type": "markdown",
   "metadata": {
    "slideshow": {
     "slide_type": "slide"
    }
   },
   "source": [
    "Bootstrap\n",
    "===\n",
    "\n",
    "**Juan David Velásquez Henao**  \n",
    "jdvelasq@unal.edu.co   \n",
    "Universidad Nacional de Colombia, Sede Medellín  \n",
    "Facultad de Minas  \n",
    "Medellín, Colombia\n",
    "\n",
    "---\n",
    "\n",
    "Haga click [aquí](https://github.com/jdvelasq/series-de-tiempo/blob/master/03-R-bootstrap.ipynb) para acceder a la última versión online\n",
    "\n",
    "Haga click [aquí](http://nbviewer.jupyter.org/github/jdvelasq/series-de-tiempo/blob/master/03-R-bootstrap.ipynb) para ver la última versión online en `nbviewer`. \n",
    "\n",
    "---"
   ]
  },
  {
   "cell_type": "markdown",
   "metadata": {
    "slideshow": {
     "slide_type": "slide"
    }
   },
   "source": [
    "El bootstrap es una técnica numérica para estimar la distribución de probabilidades de cualquier estadístico calculado sobre una muestra de datos y tiene muchas aplicaciones en modelado predictivo y pronóstico de series de tiempo.\n",
    "\n",
    "Sea una secuencia $\\{x_i; i = 1, ...,n\\}$ proveniente de una distribución poblacional $F$ desconocida con media $\\mu$ y varianza $\\sigma^2$. Esto es:\n",
    "\n",
    "$$ F \\to (x_1, ...,x_n)$$\n",
    "\n",
    "* $F$ es aproximada a través de la distribución empírica de los datos $G$.\n",
    "\n",
    "* El parámetro $\\theta$ es una función $𝑡(∙)$ de la distribución de probabilidades de la población $𝐹: 𝜃 = 𝑡(𝐹)$\n",
    "\n",
    "* $\\theta$ se aproxima a partir de la distribución empírica de probabilidad de los datos: $\\theta = 𝑡(𝐹)$.\n",
    "\n",
    "* Muestra bootstrap: Sea G la distribución empírica de los datos que coloca una probabilidad de $1/n$ en el dato $𝑥_i, ~𝑖=1,...,𝑛$.Una muestra bootstrap se define como una muestra aleatoria de tamaño $𝑛$ obtenida de $G$:\n",
    "\n",
    "$$𝑥^∗ = ( 𝑥_1^∗, 𝑥_2^∗, ..., 𝑥_n^*)$$\n",
    "\n",
    "por ejemplo, $𝑥_1^∗ = 𝑥_3, 𝑥_2^∗= 𝑥_1, 𝑥_3^∗ = 𝑥_3, ...$"
   ]
  },
  {
   "cell_type": "markdown",
   "metadata": {
    "slideshow": {
     "slide_type": "slide"
    }
   },
   "source": [
    "**Algoritmo bootstrap no paramétrico**\n",
    "\n",
    "* Se tiene la muestra $x=\\{x_i; 1,...,n\\}$\n",
    "\n",
    "\n",
    "* Se seleccionan $B$ muestras bootstrap independientes $x^{*1}, ..., x^{*B}$ cada una de $n$ elementos obtenidos de la muestra original.\n",
    "\n",
    "\n",
    "* Para cada muestra bootstap se calcula el estadístico de interes: $\\theta(b) = t(x^{*b})$\n",
    "\n",
    "\n",
    "* La muestra $\\theta(1), ..., \\theta(B)$ representa la distribución de probabilidades de $\\theta$ y puede calcularsele valor esperado, desviación estándar, etc."
   ]
  },
  {
   "cell_type": "code",
   "execution_count": 15,
   "metadata": {
    "collapsed": true,
    "slideshow": {
     "slide_type": "slide"
    }
   },
   "outputs": [],
   "source": [
    "## sea la muestra de datos para la cual se desea obtener \n",
    "## la distribución de probabilidades de la media\n",
    "x <- c(1, 4, 5, 3, 8, 4, 3, 2, 1, 0, 2, 4, 7)"
   ]
  },
  {
   "cell_type": "code",
   "execution_count": 16,
   "metadata": {
    "slideshow": {
     "slide_type": "subslide"
    }
   },
   "outputs": [
    {
     "name": "stdout",
     "output_type": "stream",
     "text": [
      "3.384615 0.4171598"
     ]
    }
   ],
   "source": [
    "## por el teorema del límite central:\n",
    "## la media de los datos sigue una distribución \n",
    "## normal con media m y varianza = s2 / n\n",
    "n <- length(x)     # cantidad de datos\n",
    "m <- mean(x)       # media muestral\n",
    "s2 <- var(x) / n   # varianza muestral\n",
    "cat(m, s2)"
   ]
  },
  {
   "cell_type": "code",
   "execution_count": 17,
   "metadata": {
    "slideshow": {
     "slide_type": "subslide"
    }
   },
   "outputs": [
    {
     "name": "stdout",
     "output_type": "stream",
     "text": [
      "3.392692 0.386215"
     ]
    }
   ],
   "source": [
    "## el mismo calculo usando bootstrap\n",
    "B <- 200       # cantidad de replicas bootstrap\n",
    "y = rep(0, B)  # muestra bootstrap\n",
    "\n",
    "for(i in 1:B) {\n",
    "    z <- sample(x,              # muestra original\n",
    "                size = n,       # tamaño de la muestra bootstrap\n",
    "                replace = TRUE) # se pueden repetir valores de la muestra original\n",
    "    \n",
    "    y[i] <- mean(z)             # replica bootstrap del estadístico\n",
    "}\n",
    "\n",
    "m_bootstrap   <- mean(y)        # valor esperado de la muestra bootstrap\n",
    "s2_bootstrap  <- var(y)         # varianza de la muestra bootstrap\n",
    "\n",
    "cat(m_bootstrap, s2_bootstrap)"
   ]
  },
  {
   "cell_type": "markdown",
   "metadata": {
    "slideshow": {
     "slide_type": "slide"
    }
   },
   "source": [
    "**Ejercicio.--** El paquete `boot` que implementa la metodología de bootstraping. Uselo para repetir los cálculos anteriores. "
   ]
  },
  {
   "cell_type": "markdown",
   "metadata": {
    "slideshow": {
     "slide_type": "slide"
    }
   },
   "source": [
    "Bootstrap\n",
    "===\n",
    "\n",
    "**Juan David Velásquez Henao**  \n",
    "jdvelasq@unal.edu.co   \n",
    "Universidad Nacional de Colombia, Sede Medellín  \n",
    "Facultad de Minas  \n",
    "Medellín, Colombia\n",
    "\n",
    "---\n",
    "\n",
    "Haga click [aquí](https://github.com/jdvelasq/series-de-tiempo/blob/master/03-R-bootstrap.ipynb) para acceder a la última versión online\n",
    "\n",
    "Haga click [aquí](http://nbviewer.jupyter.org/github/jdvelasq/series-de-tiempo/blob/master/03-R-bootstrap.ipynb) para ver la última versión online en `nbviewer`. \n",
    "\n",
    "---"
   ]
  }
 ],
 "metadata": {
  "anaconda-cloud": {},
  "celltoolbar": "Slideshow",
  "kernelspec": {
   "display_name": "R",
   "language": "R",
   "name": "ir"
  },
  "language_info": {
   "codemirror_mode": "r",
   "file_extension": ".r",
   "mimetype": "text/x-r-source",
   "name": "R",
   "pygments_lexer": "r",
   "version": "3.4.4"
  },
  "varInspector": {
   "cols": {
    "lenName": 16,
    "lenType": 16,
    "lenVar": 40
   },
   "kernels_config": {
    "python": {
     "delete_cmd_postfix": "",
     "delete_cmd_prefix": "del ",
     "library": "var_list.py",
     "varRefreshCmd": "print(var_dic_list())"
    },
    "r": {
     "delete_cmd_postfix": ") ",
     "delete_cmd_prefix": "rm(",
     "library": "var_list.r",
     "varRefreshCmd": "cat(var_dic_list()) "
    }
   },
   "types_to_exclude": [
    "module",
    "function",
    "builtin_function_or_method",
    "instance",
    "_Feature"
   ],
   "window_display": false
  }
 },
 "nbformat": 4,
 "nbformat_minor": 1
}
