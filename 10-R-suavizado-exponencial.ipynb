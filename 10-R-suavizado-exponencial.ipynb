{
 "cells": [
  {
   "cell_type": "markdown",
   "metadata": {},
   "source": [
    "Suavizado Exponencial\n",
    "===\n",
    "\n",
    "**Juan David Velásquez Henao**  \n",
    "jdvelasq@unal.edu.co   \n",
    "Universidad Nacional de Colombia, Sede Medellín  \n",
    "Facultad de Minas  \n",
    "Medellín, Colombia\n",
    "\n",
    "---\n",
    "\n",
    "Haga click [aquí](https://github.com/jdvelasq/series-de-tiempo/blob/master/10-R-suavizado-exponencial.ipynb) para acceder a la última versión online\n",
    "\n",
    "Haga click [aquí](http://nbviewer.jupyter.org/github/jdvelasq/series-de-tiempo/blob/master/10-R-suavizado-exponencial.ipynb) para ver la última versión online en `nbviewer`. \n",
    "\n",
    "---"
   ]
  },
  {
   "cell_type": "markdown",
   "metadata": {
    "slideshow": {
     "slide_type": "slide"
    }
   },
   "source": [
    "# Modelo de Holt-Winters aditivo\n",
    "\n",
    "### Generación de series sintéticas\n",
    "\n",
    "**Ejercicio.--** Grafique una serie sintética (T=100) para el siguiente modelo:\n",
    "\n",
    "$$y_{t+h}=a_t + h*b_t + s_{t-P+1 + (h-1) mod P} + e_t $$\n",
    "\n",
    "con:  $y_1$ = 10.0, $a_1$ = 13.90, $b_1$ = 0.11, $s_1$ = 0.49, $s_2$ = 0.63, $s_3$ = -0.33, $s_4$ = -0.53; y $\\sigma$ = 0.5.\n"
   ]
  },
  {
   "cell_type": "markdown",
   "metadata": {
    "slideshow": {
     "slide_type": "slide"
    }
   },
   "source": [
    "### Pronóstico\n",
    "\n",
    "**Ejercicio.--** Para la serie del ejercicio anterior, tome las 100 observaciones como la serie real y pronostique las siguientes 20, con intervalos de confianza de una desviación estándar."
   ]
  },
  {
   "cell_type": "markdown",
   "metadata": {},
   "source": [
    "### Estimación\n",
    "\n",
    "Con $h$ = 1 se obtienen los pronósticos para el siguiente período adelante.\n",
    "\n",
    "$$z_{t+h}=a_t + h*b_t + s_{t-P+1 + (h-1) mod p}$$\n",
    "\n",
    "con:\n",
    "\n",
    "$$a_t = \\alpha * (y_t  - s_{t-P}) + (1-\\alpha)(a_{t-1} + b_{t-1})$$\n",
    "\n",
    "$$b_t = \\beta * (a_t - a_{t-1}) + (1 - \\beta) b_{t-1}$$\n",
    "\n",
    "$$s_t = \\gamma(y_t-a_t) + (1 - \\gamma)*s_{t-p}$$\n",
    "\n",
    "La estimación de los parámetros óptimos se basa en minimizar la suma del error cuadrático:\n",
    "\n",
    "$$ SSE = \\sum{(z_{t} - y_{t})^2}$$\n",
    "\n",
    "y el modelo de optimización entrega como resultado $a_1$, $b_1$, $s_1$, ..., $s_P$, $\\alpha$, $\\beta$ y $\\gamma$.\n",
    "\n",
    "* $a_t$ -- estimado del nivel\n",
    "* $b_t$ -- estimado de la pendiente\n",
    "* $s_1, ..., s_P$ -- estimados de la componente estacional"
   ]
  },
  {
   "cell_type": "markdown",
   "metadata": {
    "slideshow": {
     "slide_type": "slide"
    }
   },
   "source": [
    "**Ejercicio.--** Estime los parámetros para la serie generada en los ejercicios anteriores usando la función HoltWinters de R."
   ]
  },
  {
   "cell_type": "markdown",
   "metadata": {
    "slideshow": {
     "slide_type": "slide"
    }
   },
   "source": [
    "**Ejercicio.--** Estime los parámetros usando Microsoft Excel."
   ]
  },
  {
   "cell_type": "markdown",
   "metadata": {
    "slideshow": {
     "slide_type": "slide"
    }
   },
   "source": [
    "**Ejercicio.--** Estime manualmente los parámetros del modelo usando optim."
   ]
  },
  {
   "cell_type": "markdown",
   "metadata": {
    "slideshow": {
     "slide_type": "slide"
    }
   },
   "source": [
    "### Diagnóstico\n",
    "\n",
    "El diagnóstico se usa para analizar si quedo una estructura no capturada en los errores, ya que no se puede modificar el modelo.\n",
    "\n",
    "### Notas\n",
    "\n",
    "1. El modelo de suavizado exponencial simple se obtiene al suponer que $b_t$ y $s_t$ no existen. \n",
    "2. El modelo de suavizado exponencial doble o de Brown se obtiene al suponer que no hay componente estacional.\n",
    "3. El modelo descrito anteriormente corresponde al suavizado exponencial doble."
   ]
  },
  {
   "cell_type": "markdown",
   "metadata": {
    "slideshow": {
     "slide_type": "slide"
    }
   },
   "source": [
    "# Modelo de Holt-Winters multiplicativo\n",
    "\n",
    "### Generación de series sintéticas\n",
    "\n",
    "**Ejercicio.--** Grafique una serie sintética (T=100) para el siguiente modelo:\n",
    "\n",
    "$$y_{t+h}=a_t + h*b_t + s_{t-P+1 + (h-1) mod P} + e_t $$\n",
    "\n",
    "con:  $y_1$ = 10.0, $a_1$ = 13.90, $b_1$ = 0.11, $s_1$ = 0.49, $s_2$ = 0.63, $s_3$ = -0.33, $s_4$ = -0.53; y $\\sigma$ = 0.5.\n",
    "\n",
    "$\\alpha$: 0.80,  $\\beta$:  0.01, $\\gamma$: 1.00, \n",
    "$a_1$ =    100.00, \n",
    "$b_1$ =    2.22, \n",
    "s1 =   0.94, \n",
    "s2 =  0.89, \n",
    "s3 =  1.06, \n",
    "s4 =  1.03, \n",
    "s5 =  1.02, \n",
    "s6 =  1.10, \n",
    "s7 =  1.23, \n",
    "s8 =  1.19,\n",
    "s9 =  1.00, \n",
    "s10 = 0.90, \n",
    "s11 = 0.80, \n",
    "s12 = 0.90.\n"
   ]
  },
  {
   "cell_type": "markdown",
   "metadata": {
    "slideshow": {
     "slide_type": "slide"
    }
   },
   "source": [
    "### Estimación\n",
    "\n",
    "Se realiza como en el caso aditivo usando las siguientes ecuaciones:\n",
    "\n",
    "$$Z_{t+1} = (a_t + b_t) * s_{t-P+1}$$\n",
    "\n",
    "con: \n",
    "\n",
    "$$a_t = \\alpha * \\frac{y_t}{s_{t-P}} + (1-\\alpha)(a_{t-1} + b_{t-1})$$\n",
    "\n",
    "$$b_t = \\beta * (a_t - a_{t-1}) + (1 - \\beta) b_{t-1}$$\n",
    "\n",
    "$$s_t = \\gamma \\frac{y_t}{a_t} + (1 - \\gamma)*s_{t-P}$$\n",
    "\n",
    "* $a_t$ -- estimado del nivel\n",
    "* $b_t$ -- estimado de la pendiente\n",
    "* $s_1, ..., s_P$ -- estimados de la componente estacional"
   ]
  },
  {
   "cell_type": "markdown",
   "metadata": {
    "slideshow": {
     "slide_type": "slide"
    }
   },
   "source": [
    "**Ejercicio.--** Estime un modelo multiplicativo para la serie AirPassangers."
   ]
  },
  {
   "cell_type": "markdown",
   "metadata": {},
   "source": [
    "Suavizado Exponencial\n",
    "===\n",
    "\n",
    "**Juan David Velásquez Henao**  \n",
    "jdvelasq@unal.edu.co   \n",
    "Universidad Nacional de Colombia, Sede Medellín  \n",
    "Facultad de Minas  \n",
    "Medellín, Colombia\n",
    "\n",
    "---\n",
    "\n",
    "Haga click [aquí](https://github.com/jdvelasq/series-de-tiempo/blob/master/10-R-suavizado-exponencial.ipynb) para acceder a la última versión online\n",
    "\n",
    "Haga click [aquí](http://nbviewer.jupyter.org/github/jdvelasq/series-de-tiempo/blob/master/10-R-suavizado-exponencial.ipynb) para ver la última versión online en `nbviewer`. \n",
    "\n",
    "---"
   ]
  }
 ],
 "metadata": {
  "anaconda-cloud": {},
  "celltoolbar": "Slideshow",
  "kernelspec": {
   "display_name": "R",
   "language": "R",
   "name": "ir"
  },
  "language_info": {
   "codemirror_mode": "r",
   "file_extension": ".r",
   "mimetype": "text/x-r-source",
   "name": "R",
   "pygments_lexer": "r",
   "version": "3.3.3"
  }
 },
 "nbformat": 4,
 "nbformat_minor": 1
}
