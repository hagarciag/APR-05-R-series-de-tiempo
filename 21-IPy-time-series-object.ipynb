{
 "cells": [
  {
   "cell_type": "markdown",
   "metadata": {},
   "source": [
    "Time Series object en Python\n",
    "===\n",
    "\n",
    "**Juan David Velásquez Henao**  \n",
    "jdvelasq@unal.edu.co   \n",
    "Universidad Nacional de Colombia, Sede Medellín  \n",
    "Facultad de Minas  \n",
    "Medellín, Colombia\n",
    "\n",
    "---\n",
    "\n",
    "Haga click [aquí](https://github.com/jdvelasq/series-de-tiempo/blob/master/02-IPy-time-series-object.ipynb) para acceder a la última versión online\n",
    "\n",
    "Haga click [aquí](http://nbviewer.jupyter.org/github/jdvelasq/series-de-tiempo/blob/master/02-IPy-time-series-object.ipynb) para ver la última versión online en `nbviewer`. \n",
    "\n",
    "---"
   ]
  },
  {
   "cell_type": "markdown",
   "metadata": {},
   "source": [
    "Este curso es completamente práctico y busca desarrollar habilidades en programación y modelado. "
   ]
  },
  {
   "cell_type": "markdown",
   "metadata": {},
   "source": [
    "Un objeto TS en R esta definido como:\n",
    "\n",
    "    ts(data = NA, start = 1, end = numeric(), frequency = 1,\n",
    "       deltat = 1, ts.eps = getOption(\"ts.eps\"), class = , names = )\n",
    "       \n",
    "Se debe desarrollar un objeto en Python que permita representar series de tiempo con una funcionalidad similar (realmente menor) a la disponible en R. A continuación se presenta el codigo semilla. ¿Cómo puede representar el tiempo en el eje X?"
   ]
  },
  {
   "cell_type": "code",
   "execution_count": null,
   "metadata": {
    "collapsed": true
   },
   "outputs": [],
   "source": [
    "class TimeSeries():\n",
    "    \n",
    "    def __init__(self, data = None, start=1, end=None, frequency=1):\n",
    "        \n",
    "        self.data = data\n",
    "        #\n",
    "        # complete el codigo\n",
    "    \n",
    "    \n",
    "    def __repr__(self):\n",
    "        #\n",
    "        return data.repr() #? es correcto\n",
    "    \n",
    "    def plot(self):\n",
    "        #\n",
    "        # permite hacer gráficas similares a R usando matplolib y otra utilidad\n",
    "        #\n",
    "        pass\n",
    "                 \n"
   ]
  },
  {
   "cell_type": "markdown",
   "metadata": {},
   "source": [
    "**Ejercicio.--** Importe los datos de AirPassenger desde R."
   ]
  },
  {
   "cell_type": "markdown",
   "metadata": {},
   "source": [
    "**Ejercicio.--** Llame a plot() para graficar."
   ]
  },
  {
   "cell_type": "code",
   "execution_count": null,
   "metadata": {
    "collapsed": true
   },
   "outputs": [],
   "source": []
  },
  {
   "cell_type": "markdown",
   "metadata": {},
   "source": [
    "Time Series object en Python\n",
    "===\n",
    "\n",
    "**Juan David Velásquez Henao**  \n",
    "jdvelasq@unal.edu.co   \n",
    "Universidad Nacional de Colombia, Sede Medellín  \n",
    "Facultad de Minas  \n",
    "Medellín, Colombia\n",
    "\n",
    "---\n",
    "\n",
    "Haga click [aquí](https://github.com/jdvelasq/series-de-tiempo/blob/master/02-IPy-time-series-object.ipynb) para acceder a la última versión online\n",
    "\n",
    "Haga click [aquí](http://nbviewer.jupyter.org/github/jdvelasq/series-de-tiempo/blob/master/02-IPy-time-series-object.ipynb) para ver la última versión online en `nbviewer`. \n",
    "\n",
    "---"
   ]
  }
 ],
 "metadata": {
  "kernelspec": {
   "display_name": "Python 3",
   "language": "python",
   "name": "python3"
  },
  "language_info": {
   "codemirror_mode": {
    "name": "ipython",
    "version": 3
   },
   "file_extension": ".py",
   "mimetype": "text/x-python",
   "name": "python",
   "nbconvert_exporter": "python",
   "pygments_lexer": "ipython3",
   "version": "3.6.1"
  }
 },
 "nbformat": 4,
 "nbformat_minor": 2
}
